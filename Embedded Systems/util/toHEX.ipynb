{
 "cells": [
  {
   "cell_type": "code",
   "execution_count": 1,
   "metadata": {},
   "outputs": [],
   "source": [
    "from PIL import Image\n",
    "\n",
    "counter1 = 0\n",
    "counter2 = 0\n",
    "\n",
    "def rgb2hex(r, g, b):\n",
    "    \n",
    "    str_string = '{:02x} {:02x} {:02x} 00 \\n'.format(b, g, r)\n",
    "\n",
    "    str_bytes = str_string.encode(\"ascii\")\n",
    "\n",
    "\n",
    "    return str_bytes\n",
    "\n",
    "counter = 0\n",
    "\n",
    "img = Image.open('OPEN.jpg')\n",
    "\n",
    "outputFile = open(\"prova.txt\", \"wb\")\n",
    "\n",
    "\n",
    "pixels = list(img.convert('RGBA').getdata())\n",
    "\n",
    "for r, g, b, a in pixels: # just ignore the alpha channel\n",
    "    counter1 = counter1 + 1\n",
    "    outputFile.write(rgb2hex(r, g, b))\n",
    "\n",
    "\n",
    "\n"
   ]
  },
  {
   "cell_type": "code",
   "execution_count": 2,
   "metadata": {},
   "outputs": [],
   "source": [
    "import binascii\n",
    "\n",
    "with open('prova.txt') as f, open('test', 'wb') as fout:\n",
    "    for line in f:\n",
    "        fout.write(\n",
    "            binascii.unhexlify(''.join(line.split()))\n",
    "        )"
   ]
  }
 ],
 "metadata": {
  "interpreter": {
   "hash": "aee8b7b246df8f9039afb4144a1f6fd8d2ca17a180786b69acc140d282b71a49"
  },
  "kernelspec": {
   "display_name": "Python 3.8.6 64-bit",
   "language": "python",
   "name": "python3"
  },
  "language_info": {
   "codemirror_mode": {
    "name": "ipython",
    "version": 3
   },
   "file_extension": ".py",
   "mimetype": "text/x-python",
   "name": "python",
   "nbconvert_exporter": "python",
   "pygments_lexer": "ipython3",
   "version": "3.8.6"
  },
  "orig_nbformat": 4
 },
 "nbformat": 4,
 "nbformat_minor": 2
}
